{
 "cells": [
  {
   "cell_type": "markdown",
   "id": "cdb13284",
   "metadata": {},
   "source": [
    "# Topic: Categorical Data Handling"
   ]
  },
  {
   "cell_type": "markdown",
   "id": "050bfbd5",
   "metadata": {},
   "source": [
    "## Task 1: Handle Categorical Variables\n",
    "- Create a DataFrame with a 'Color' column having repeated values.\n",
    "- Convert the 'Color' column into a pandas Categorical type."
   ]
  },
  {
   "cell_type": "code",
   "execution_count": 1,
   "id": "4f2f8bd1",
   "metadata": {},
   "outputs": [
    {
     "name": "stdout",
     "output_type": "stream",
     "text": [
      "   Color\n",
      "0    Red\n",
      "1   Blue\n",
      "2  Green\n",
      "3    Red\n",
      "4   Blue\n",
      "5  Green\n",
      "6    Red\n",
      "7   Blue\n",
      "\n",
      "Data types:\n",
      " Color    category\n",
      "dtype: object\n"
     ]
    }
   ],
   "source": [
    "import pandas as pd\n",
    "\n",
    "# Create a DataFrame with a 'Color' column\n",
    "df = pd.DataFrame({\n",
    "    'Color': ['Red', 'Blue', 'Green', 'Red', 'Blue', 'Green', 'Red', 'Blue']\n",
    "})\n",
    "\n",
    "# Convert 'Color' column to Categorical type\n",
    "df['Color'] = pd.Categorical(df['Color'])\n",
    "print(df)\n",
    "print(\"\\nData types:\\n\", df.dtypes)"
   ]
  },
  {
   "cell_type": "markdown",
   "id": "70a5e047",
   "metadata": {},
   "source": [
    "## Task 2: Perform Categorical Analysis\n",
    "- Count the number of unique categories in the 'Color' column.\n",
    "- Display the frequency of each category."
   ]
  },
  {
   "cell_type": "code",
   "execution_count": 2,
   "id": "f0e7cb8a",
   "metadata": {},
   "outputs": [
    {
     "name": "stdout",
     "output_type": "stream",
     "text": [
      "Number of unique categories: 3\n",
      "\n",
      "Frequency of each category:\n",
      " Color\n",
      "Blue     3\n",
      "Red      3\n",
      "Green    2\n",
      "Name: count, dtype: int64\n"
     ]
    }
   ],
   "source": [
    "# Number of unique categories\n",
    "unique_colors = df['Color'].nunique()\n",
    "print(\"Number of unique categories:\", unique_colors)\n",
    "\n",
    "# Frequency of each category\n",
    "freq_colors = df['Color'].value_counts()\n",
    "print(\"\\nFrequency of each category:\\n\", freq_colors)"
   ]
  },
  {
   "cell_type": "markdown",
   "id": "8671e579",
   "metadata": {},
   "source": [
    "## Task 3: Compare and Order Categories\n",
    "- Create a 'Size' column with values: 'Small', 'Medium', 'Large'.\n",
    "- Define a logical order for these categories.\n",
    "- Sort the DataFrame based on the 'Size' column."
   ]
  },
  {
   "cell_type": "code",
   "execution_count": 3,
   "id": "163110f3",
   "metadata": {},
   "outputs": [
    {
     "name": "stdout",
     "output_type": "stream",
     "text": [
      "   Color    Size\n",
      "0    Red   Small\n",
      "3    Red   Small\n",
      "6    Red   Small\n",
      "1   Blue  Medium\n",
      "5  Green  Medium\n",
      "2  Green   Large\n",
      "4   Blue   Large\n",
      "7   Blue   Large\n"
     ]
    }
   ],
   "source": [
    "# Add a 'Size' column\n",
    "df['Size'] = ['Small', 'Medium', 'Large', 'Small', 'Large', 'Medium', 'Small', 'Large']\n",
    "\n",
    "# Define logical order for 'Size'\n",
    "size_order = pd.CategoricalDtype(['Small', 'Medium', 'Large'], ordered=True)\n",
    "df['Size'] = df['Size'].astype(size_order)\n",
    "\n",
    "# Sort by 'Size'\n",
    "sorted_df = df.sort_values('Size')\n",
    "print(sorted_df)"
   ]
  },
  {
   "cell_type": "markdown",
   "id": "d37f1314",
   "metadata": {},
   "source": [
    "## Task 4: Rename Categories\n",
    "- Rename the categories in the 'Size' column to 'S', 'M', and 'L'."
   ]
  },
  {
   "cell_type": "code",
   "execution_count": 4,
   "id": "248450fa",
   "metadata": {},
   "outputs": [
    {
     "name": "stdout",
     "output_type": "stream",
     "text": [
      "   Color Size\n",
      "0    Red    S\n",
      "1   Blue    M\n",
      "2  Green    L\n",
      "3    Red    S\n",
      "4   Blue    L\n",
      "5  Green    M\n",
      "6    Red    S\n",
      "7   Blue    L\n"
     ]
    }
   ],
   "source": [
    "# Rename categories\n",
    "df['Size'] = df['Size'].cat.rename_categories({'Small':'S', 'Medium':'M', 'Large':'L'})\n",
    "print(df)"
   ]
  },
  {
   "cell_type": "markdown",
   "id": "91aacad6",
   "metadata": {},
   "source": [
    "## Challenge\n",
    "- Create a bar plot to visualize the count of each 'Size' category."
   ]
  },
  {
   "cell_type": "code",
   "execution_count": 5,
   "id": "b512ae8d",
   "metadata": {},
   "outputs": [
    {
     "data": {
      "image/png": "[encoded data removed]",
      "text/plain": [
       "<Figure size 640x480 with 1 Axes>"
      ]
     },
     "metadata": {},
     "output_type": "display_data"
    }
   ],
   "source": [
    "import matplotlib.pyplot as plt\n",
    "\n",
    "df['Size'].value_counts().plot(kind='bar', color=['red','green','blue'])\n",
    "plt.title('Count of Each Size Category')\n",
    "plt.xlabel('Size')\n",
    "plt.ylabel('Count')\n",
    "plt.show()"
   ]
  }
 ],
 "metadata": {
  "kernelspec": {
   "display_name": "Python 3",
   "language": "python",
   "name": "python3"
  },
  "language_info": {
   "codemirror_mode": {
    "name": "ipython",
    "version": 3
   },
   "file_extension": ".py",
   "mimetype": "text/x-python",
   "name": "python",
   "nbconvert_exporter": "python",
   "pygments_lexer": "ipython3",
   "version": "3.13.5"
  }
 },
 "nbformat": 4,
 "nbformat_minor": 5
}
