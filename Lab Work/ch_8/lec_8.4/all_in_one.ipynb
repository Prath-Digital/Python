{
 "cells": [
  {
   "cell_type": "markdown",
   "metadata": {},
   "source": [
    "## **1. Introduction to Pandas**"
   ]
  },
  {
   "cell_type": "markdown",
   "metadata": {},
   "source": [
    "#### **Task 1.1: Importing Pandas**\n",
    "#### Import the Pandas library and assign it the conventional alias `pd`."
   ]
  },
  {
   "cell_type": "code",
   "execution_count": 2,
   "metadata": {},
   "outputs": [
    {
     "name": "stdout",
     "output_type": "stream",
     "text": [
      "NumPy version: 2.3.1\n",
      "Pandas version: 2.3.0\n"
     ]
    }
   ],
   "source": [
    "import numpy as np\n",
    "import pandas as pd\n",
    "\n",
    "print(f\"NumPy version: {np.__version__}\")\n",
    "print(f\"Pandas version: {pd.__version__}\")"
   ]
  },
  {
   "cell_type": "markdown",
   "metadata": {},
   "source": [
    "#### **Task 1.2: Understanding Pandas Data Structures**\n",
    "#### Briefly explain in a comment what the two primary data structures in Pandas are and what they represent."
   ]
  },
  {
   "cell_type": "code",
   "execution_count": 3,
   "metadata": {},
   "outputs": [],
   "source": [
    "# Pandas has two primary data structures:\n",
    "# 1. Series: A one-dimensional array-like structure that holds data of any type (e.g., integers, strings) with an index for labeling.\n",
    "# 2. DataFrame: A two-dimensional, table-like structure with rows and columns, where each column can be a different data type, similar to a spreadsheet or SQL table."
   ]
  },
  {
   "cell_type": "markdown",
   "metadata": {},
   "source": [
    "---"
   ]
  },
  {
   "cell_type": "markdown",
   "metadata": {},
   "source": [
    "## **2. Series**"
   ]
  },
  {
   "cell_type": "markdown",
   "metadata": {},
   "source": [
    "#### **Task 2.1: Creating a Series from a List**\n",
    "#### Create a Pandas Series named `fruits` from the following Python list: `['apple', 'banana', 'cherry', 'date']`.\n",
    "#### Print the Series."
   ]
  },
  {
   "cell_type": "code",
   "execution_count": 4,
   "metadata": {},
   "outputs": [
    {
     "name": "stdout",
     "output_type": "stream",
     "text": [
      "0     apple\n",
      "1    banana\n",
      "2    cherry\n",
      "3      date\n",
      "dtype: object\n"
     ]
    }
   ],
   "source": [
    "list_fruits = ['apple', 'banana', 'cherry', 'date']\n",
    "\n",
    "fruits = pd.Series(list_fruits)\n",
    "\n",
    "print(fruits)"
   ]
  },
  {
   "cell_type": "markdown",
   "metadata": {},
   "source": [
    "#### **Task 2.2: Creating a Series with Custom Indices**\n",
    "#### Create a Pandas Series named `colors` from the following Python list: `['red', 'green', 'blue']`.\n",
    "#### Assign the indices as `['color1', 'color2', 'color3']`.\n",
    "#### Print the Series."
   ]
  },
  {
   "cell_type": "code",
   "execution_count": 5,
   "metadata": {},
   "outputs": [
    {
     "name": "stdout",
     "output_type": "stream",
     "text": [
      "color1      red\n",
      "color2    green\n",
      "color3     blue\n",
      "dtype: object\n"
     ]
    }
   ],
   "source": [
    "colors = pd.Series(['red', 'green', 'blue'], index=['color1', 'color2', 'color3'])\n",
    "\n",
    "print(colors)"
   ]
  },
  {
   "cell_type": "markdown",
   "metadata": {},
   "source": [
    "#### **Task 2.3: Accessing Elements in a Series**\n",
    "#### Using the `fruits` Series, access and print the element at index 1.\n",
    "#### Using the `colors` Series, access and print the element with the index 'color2'."
   ]
  },
  {
   "cell_type": "code",
   "execution_count": 6,
   "metadata": {},
   "outputs": [
    {
     "name": "stdout",
     "output_type": "stream",
     "text": [
      "banana\n",
      "green\n"
     ]
    }
   ],
   "source": [
    "print(fruits[1])\n",
    "print(colors['color2'])"
   ]
  },
  {
   "cell_type": "markdown",
   "metadata": {},
   "source": [
    "---"
   ]
  },
  {
   "cell_type": "markdown",
   "metadata": {},
   "source": [
    "## **3. DataFrame**"
   ]
  },
  {
   "cell_type": "markdown",
   "metadata": {},
   "source": [
    "#### **Task 3.1: Creating a DataFrame from a Dictionary of Lists**\n",
    "#### Create a Pandas DataFrame named `student_data` from the following Python dictionary:\n",
    "#### {\n",
    "####  'name': ['Alice', 'Bob', 'Charlie'],\n",
    "####  'age': [20, 21, 19],\n",
    "####  'major': ['CS', 'Engineering', 'Math']\n",
    "#### }\n",
    "#### Print the DataFrame."
   ]
  },
  {
   "cell_type": "code",
   "execution_count": 7,
   "metadata": {},
   "outputs": [
    {
     "name": "stdout",
     "output_type": "stream",
     "text": [
      "      name  age        major\n",
      "0    Alice   20           CS\n",
      "1      Bob   21  Engineering\n",
      "2  Charlie   19         Math\n"
     ]
    }
   ],
   "source": [
    "student_data = pd.DataFrame({\n",
    " 'name': ['Alice', 'Bob', 'Charlie'],\n",
    " 'age': [20, 21, 19],\n",
    " 'major': ['CS', 'Engineering', 'Math']\n",
    "})\n",
    "\n",
    "print(student_data)"
   ]
  },
  {
   "cell_type": "markdown",
   "metadata": {},
   "source": [
    "#### **Task 3.2: Creating a DataFrame from a List of Dictionaries**\n",
    "#### Create a Pandas DataFrame named `employee_data` from the following Python list of dictionaries:\n",
    "#### [{'name': 'David', 'salary': 50000, 'department': 'Sales'},\n",
    "####  {'name': 'Eve', 'salary': 60000, 'department': 'Marketing'},\n",
    "####  {'name': 'Frank', 'salary': 55000, 'department': 'Sales'}]\n",
    "#### Print the DataFrame."
   ]
  },
  {
   "cell_type": "code",
   "execution_count": 8,
   "metadata": {},
   "outputs": [
    {
     "name": "stdout",
     "output_type": "stream",
     "text": [
      "    name  salary department\n",
      "0  David   50000      Sales\n",
      "1    Eve   60000  Marketing\n",
      "2  Frank   55000      Sales\n"
     ]
    }
   ],
   "source": [
    "employee_data = pd.DataFrame([{'name': 'David', 'salary': 50000, 'department': 'Sales'}, {'name': 'Eve', 'salary': 60000, 'department': 'Marketing'}, {'name': 'Frank', 'salary': 55000, 'department': 'Sales'}])\n",
    "\n",
    "print(employee_data)"
   ]
  },
  {
   "cell_type": "markdown",
   "metadata": {},
   "source": [
    "#### **Task 3.3: Creating a DataFrame from a NumPy Array**\n",
    "#### Create a NumPy array `data_array` with shape (3, 2) containing random integers between 1 and 10.\n",
    "#### Create a Pandas DataFrame named `random_df` from this NumPy array with column names 'Column A' and 'Column B'.\n",
    "#### Print the DataFrame."
   ]
  },
  {
   "cell_type": "code",
   "execution_count": 9,
   "metadata": {},
   "outputs": [
    {
     "name": "stdout",
     "output_type": "stream",
     "text": [
      "   Column A  Column B\n",
      "0         1        10\n",
      "1         7         8\n",
      "2         9         9\n"
     ]
    }
   ],
   "source": [
    "data_array = np.random.randint(1, 11, size=(3, 2))\n",
    "\n",
    "random_df = pd.DataFrame(data_array, columns=['Column A', 'Column B'])\n",
    "\n",
    "print(random_df)"
   ]
  },
  {
   "cell_type": "markdown",
   "metadata": {},
   "source": [
    "---"
   ]
  },
  {
   "cell_type": "markdown",
   "metadata": {},
   "source": [
    "## **4. Exploring Data (Series and DataFrame)**"
   ]
  },
  {
   "cell_type": "markdown",
   "metadata": {},
   "source": [
    "#### **Task 4.1: Exploring a Series**\n",
    "#### Using the `fruits` Series, find and print:\n",
    "#### - The number of elements in the Series.\n",
    "#### - The unique values in the Series.\n",
    "#### - The count of each unique value in the Series."
   ]
  },
  {
   "cell_type": "code",
   "execution_count": 12,
   "metadata": {},
   "outputs": [
    {
     "name": "stdout",
     "output_type": "stream",
     "text": [
      "Number of elements: 4\n",
      "Unique values: ['apple' 'banana' 'cherry' 'date']\n",
      "Count of each unique value:\n",
      " apple     1\n",
      "banana    1\n",
      "cherry    1\n",
      "date      1\n",
      "Name: count, dtype: int64\n"
     ]
    }
   ],
   "source": [
    "num_elements = len(fruits)\n",
    "print(\"Number of elements:\", num_elements)\n",
    "\n",
    "unique_values = fruits.unique()\n",
    "print(\"Unique values:\", unique_values)\n",
    "\n",
    "value_counts = fruits.value_counts()\n",
    "print(\"Count of each unique value:\\n\", value_counts)"
   ]
  },
  {
   "cell_type": "markdown",
   "metadata": {},
   "source": [
    "#### **Task 4.2: Exploring a DataFrame**\n",
    "#### Using the `student_data` DataFrame, find and print:\n",
    "#### - The first 2 rows of the DataFrame.\n",
    "#### - The last row of the DataFrame.\n",
    "#### - The index of the DataFrame.\n",
    "#### - The column names of the DataFrame.\n",
    "#### - A concise summary of the DataFrame (including data types and non-null values)."
   ]
  },
  {
   "cell_type": "code",
   "execution_count": 13,
   "metadata": {},
   "outputs": [
    {
     "name": "stdout",
     "output_type": "stream",
     "text": [
      "First 2 rows:\n",
      "     name  age        major\n",
      "0  Alice   20           CS\n",
      "1    Bob   21  Engineering\n",
      "Last row:\n",
      "       name  age major\n",
      "2  Charlie   19  Math\n",
      "Index: RangeIndex(start=0, stop=3, step=1)\n",
      "Column names: ['name', 'age', 'major']\n",
      "<class 'pandas.core.frame.DataFrame'>\n",
      "RangeIndex: 3 entries, 0 to 2\n",
      "Data columns (total 3 columns):\n",
      " #   Column  Non-Null Count  Dtype \n",
      "---  ------  --------------  ----- \n",
      " 0   name    3 non-null      object\n",
      " 1   age     3 non-null      int64 \n",
      " 2   major   3 non-null      object\n",
      "dtypes: int64(1), object(2)\n",
      "memory usage: 204.0+ bytes\n",
      "Summary:\n",
      " None\n"
     ]
    }
   ],
   "source": [
    "print(\"First 2 rows:\\n\", student_data.head(2))\n",
    "\n",
    "print(\"Last row:\\n\", student_data.tail(1))\n",
    "\n",
    "print(\"Index:\", student_data.index)\n",
    "\n",
    "print(\"Column names:\", student_data.columns.tolist())\n",
    "\n",
    "print(\"Summary:\\n\", student_data.info())"
   ]
  },
  {
   "cell_type": "markdown",
   "metadata": {},
   "source": [
    "#### **Task 4.3: Selecting Columns and Rows**\n",
    "#### Using the `employee_data` DataFrame:\n",
    "#### - Select and print only the 'name' column.\n",
    "#### - Select and print the row at index 1.\n",
    "#### - Select and print the 'name' and 'salary' columns.\n",
    "#### - Select and print the first two rows and the 'name' and 'department' columns."
   ]
  },
  {
   "cell_type": "code",
   "execution_count": 14,
   "metadata": {},
   "outputs": [
    {
     "name": "stdout",
     "output_type": "stream",
     "text": [
      "Name column:\n",
      " 0    David\n",
      "1      Eve\n",
      "2    Frank\n",
      "Name: name, dtype: object\n",
      "Row at index 1:\n",
      " name                Eve\n",
      "salary            60000\n",
      "department    Marketing\n",
      "Name: 1, dtype: object\n",
      "Name and salary columns:\n",
      "     name  salary\n",
      "0  David   50000\n",
      "1    Eve   60000\n",
      "2  Frank   55000\n",
      "First two rows with name and department:\n",
      "     name department\n",
      "0  David      Sales\n",
      "1    Eve  Marketing\n"
     ]
    }
   ],
   "source": [
    "print(\"Name column:\\n\", employee_data['name'])\n",
    "\n",
    "print(\"Row at index 1:\\n\", employee_data.loc[1])\n",
    "\n",
    "print(\"Name and salary columns:\\n\", employee_data[['name', 'salary']])\n",
    "\n",
    "print(\"First two rows with name and department:\\n\", employee_data.loc[:1, ['name', 'department']])"
   ]
  },
  {
   "cell_type": "markdown",
   "metadata": {},
   "source": [
    "---"
   ]
  },
  {
   "cell_type": "markdown",
   "metadata": {},
   "source": [
    "## **5. Operations on DataFrames**"
   ]
  },
  {
   "cell_type": "markdown",
   "metadata": {},
   "source": [
    "#### **Task 5.1: Adding a New Column**\n",
    "#### Add a new column named 'city' to the `student_data` DataFrame with the values: `['New York', 'London', 'Paris']`.\n",
    "#### Print the updated DataFrame."
   ]
  },
  {
   "cell_type": "code",
   "execution_count": 16,
   "metadata": {},
   "outputs": [
    {
     "name": "stdout",
     "output_type": "stream",
     "text": [
      "      name  age        major      city\n",
      "0    Alice   20           CS  New York\n",
      "1      Bob   21  Engineering    London\n",
      "2  Charlie   19         Math     Paris\n"
     ]
    }
   ],
   "source": [
    "student_data['city'] = ['New York', 'London', 'Paris']\n",
    "\n",
    "print(student_data)"
   ]
  },
  {
   "cell_type": "markdown",
   "metadata": {},
   "source": [
    "#### **Task 5.2: Removing a Column**\n",
    "#### Remove the 'city' column from the `student_data` DataFrame.\n",
    "#### Print the DataFrame after removal."
   ]
  },
  {
   "cell_type": "code",
   "execution_count": 17,
   "metadata": {},
   "outputs": [
    {
     "name": "stdout",
     "output_type": "stream",
     "text": [
      "      name  age        major\n",
      "0    Alice   20           CS\n",
      "1      Bob   21  Engineering\n",
      "2  Charlie   19         Math\n"
     ]
    }
   ],
   "source": [
    "student_data = student_data.drop('city', axis=1)\n",
    "print(student_data)"
   ]
  },
  {
   "cell_type": "markdown",
   "metadata": {},
   "source": [
    "#### **Task 5.3: Filtering Rows Based on a Condition**\n",
    "#### Using the `employee_data` DataFrame, filter and print the rows where the 'department' is 'Sales'."
   ]
  },
  {
   "cell_type": "code",
   "execution_count": 18,
   "metadata": {},
   "outputs": [
    {
     "name": "stdout",
     "output_type": "stream",
     "text": [
      "    name  salary department\n",
      "0  David   50000      Sales\n",
      "2  Frank   55000      Sales\n"
     ]
    }
   ],
   "source": [
    "sales_employees = employee_data[employee_data['department'] == 'Sales']\n",
    "print(sales_employees)"
   ]
  },
  {
   "cell_type": "markdown",
   "metadata": {},
   "source": [
    "#### **Task 5.4: Sorting a DataFrame**\n",
    "#### Sort the `employee_data` DataFrame by the 'salary' column in descending order.\n",
    "#### Print the sorted DataFrame."
   ]
  },
  {
   "cell_type": "code",
   "execution_count": 19,
   "metadata": {},
   "outputs": [
    {
     "name": "stdout",
     "output_type": "stream",
     "text": [
      "    name  salary department\n",
      "1    Eve   60000  Marketing\n",
      "2  Frank   55000      Sales\n",
      "0  David   50000      Sales\n"
     ]
    }
   ],
   "source": [
    "sorted_data = employee_data.sort_values(by='salary', ascending=False)\n",
    "print(sorted_data)"
   ]
  },
  {
   "cell_type": "markdown",
   "metadata": {},
   "source": [
    "#### **Task 5.5: Basic Aggregation**\n",
    "#### Using the `employee_data` DataFrame, calculate and print the average salary of all employees."
   ]
  },
  {
   "cell_type": "code",
   "execution_count": 20,
   "metadata": {},
   "outputs": [
    {
     "name": "stdout",
     "output_type": "stream",
     "text": [
      "Average salary: 55000.0\n"
     ]
    }
   ],
   "source": [
    "average_salary = employee_data['salary'].mean()\n",
    "print(\"Average salary:\", average_salary)"
   ]
  }
 ],
 "metadata": {
  "kernelspec": {
   "display_name": "Python 3",
   "language": "python",
   "name": "python3"
  },
  "language_info": {
   "codemirror_mode": {
    "name": "ipython",
    "version": 3
   },
   "file_extension": ".py",
   "mimetype": "text/x-python",
   "name": "python",
   "nbconvert_exporter": "python",
   "pygments_lexer": "ipython3",
   "version": "3.13.5"
  }
 },
 "nbformat": 4,
 "nbformat_minor": 0
}
