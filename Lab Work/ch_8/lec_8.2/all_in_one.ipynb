{
  "cells": [
    {
      "cell_type": "markdown",
      "metadata": {
        "id": "nksqNEVUUkIG"
      },
      "source": [
        "#### **1. Mathematical Operations**"
      ]
    },
    {
      "cell_type": "markdown",
      "metadata": {
        "id": "M2V9hzmxdRVB"
      },
      "source": [
        "##### 1. Create two NumPy arrays of shape (3, 3) and perform element-wise addition, subtraction, multiplication, and division."
      ]
    },
    {
      "cell_type": "code",
      "execution_count": 3,
      "metadata": {},
      "outputs": [
        {
          "name": "stdout",
          "output_type": "stream",
          "text": [
            "shape of array1: (3, 3)\n",
            "shape of array2: (3, 3)\n",
            "added_array:\n",
            "[[11 13 15]\n",
            " [17 19 21]\n",
            " [23 25 27]]\n",
            "subtracted_array:\n",
            "[[-9 -9 -9]\n",
            " [-9 -9 -9]\n",
            " [-9 -9 -9]]\n",
            "multiplied_array:\n",
            "[[ 10  22  36]\n",
            " [ 52  70  90]\n",
            " [112 136 162]]\n",
            "divided_array:\n",
            "[[0.1        0.18181818 0.25      ]\n",
            " [0.30769231 0.35714286 0.4       ]\n",
            " [0.4375     0.47058824 0.5       ]]\n"
          ]
        }
      ],
      "source": [
        "import numpy as np\n",
        "\n",
        "array1 = np.array([[1, 2, 3], [4, 5, 6], [7, 8, 9]])\n",
        "array2 = np.array([[10, 11, 12], [13, 14, 15], [16, 17, 18]])\n",
        "print(f\"shape of array1: {array1.shape}\")\n",
        "print(f\"shape of array2: {array2.shape}\")\n",
        "added_array = array1 + array2\n",
        "print(f\"added_array:\\n{added_array}\")\n",
        "subtracted_array = array1 - array2\n",
        "print(f\"subtracted_array:\\n{subtracted_array}\")\n",
        "multiplied_array = array1 * array2\n",
        "print(f\"multiplied_array:\\n{multiplied_array}\")\n",
        "divided_array = array1 / array2\n",
        "print(f\"divided_array:\\n{divided_array}\")\n"
      ]
    },
    {
      "cell_type": "markdown",
      "metadata": {
        "id": "SnJJLZPGdUqZ"
      },
      "source": [
        "##### 2. Generate a NumPy array with random integers and apply square root, exponential, and logarithmic functions."
      ]
    },
    {
      "cell_type": "code",
      "execution_count": 7,
      "metadata": {},
      "outputs": [
        {
          "name": "stdout",
          "output_type": "stream",
          "text": [
            "Random Array:\n",
            " [[17  8  4]\n",
            " [19  9 15]\n",
            " [ 1 18  8]]\n",
            "Square Root:\n",
            " [[4.12310563 2.82842712 2.        ]\n",
            " [4.35889894 3.         3.87298335]\n",
            " [1.         4.24264069 2.82842712]]\n",
            "Exponential:\n",
            " [[2.41549528e+07 2.98095799e+03 5.45981500e+01]\n",
            " [1.78482301e+08 8.10308393e+03 3.26901737e+06]\n",
            " [2.71828183e+00 6.56599691e+07 2.98095799e+03]]\n",
            "Logarithm:\n",
            " [[2.83321334 2.07944154 1.38629436]\n",
            " [2.94443898 2.19722458 2.7080502 ]\n",
            " [0.         2.89037176 2.07944154]]\n"
          ]
        }
      ],
      "source": [
        "import numpy as np\n",
        "random_array = np.random.randint(1, 20, size=(3, 3))\n",
        "print(\"Random Array:\\n\", random_array)\n",
        "\n",
        "sqrt_array = np.sqrt(random_array)\n",
        "print(\"Square Root:\\n\", sqrt_array)\n",
        "\n",
        "exp_array = np.exp(random_array)\n",
        "print(\"Exponential:\\n\", exp_array)\n",
        "\n",
        "log_array = np.log(random_array)  # Avoid log(0)\n",
        "print(\"Logarithm:\\n\", log_array)\n"
      ]
    },
    {
      "cell_type": "markdown",
      "metadata": {
        "id": "LVsxMsapdXYL"
      },
      "source": [
        "##### 3. Create a NumPy array and apply trigonometric operations like sin, cos, and tan."
      ]
    },
    {
      "cell_type": "code",
      "execution_count": 8,
      "metadata": {},
      "outputs": [
        {
          "name": "stdout",
          "output_type": "stream",
          "text": [
            "Original Array:\n",
            " [[0.         0.52359878 0.78539816]\n",
            " [1.04719755 1.57079633 3.14159265]]\n",
            "Sine:\n",
            " [[0.00000000e+00 5.00000000e-01 7.07106781e-01]\n",
            " [8.66025404e-01 1.00000000e+00 1.22464680e-16]]\n",
            "Cosine:\n",
            " [[ 1.00000000e+00  8.66025404e-01  7.07106781e-01]\n",
            " [ 5.00000000e-01  6.12323400e-17 -1.00000000e+00]]\n",
            "Tangent:\n",
            " [[ 0.00000000e+00  5.77350269e-01  1.00000000e+00]\n",
            " [ 1.73205081e+00  1.63312394e+16 -1.22464680e-16]]\n"
          ]
        }
      ],
      "source": [
        "import numpy as np\n",
        "\n",
        "trig_array = np.array([[0, np.pi/6, np.pi/4], [np.pi/3, np.pi/2, np.pi]])\n",
        "print(\"Original Array:\\n\", trig_array)\n",
        "\n",
        "sin_array = np.sin(trig_array)\n",
        "print(\"Sine:\\n\", sin_array)\n",
        "\n",
        "cos_array = np.cos(trig_array)\n",
        "print(\"Cosine:\\n\", cos_array)\n",
        "\n",
        "tan_array = np.tan(trig_array)\n",
        "print(\"Tangent:\\n\", tan_array)"
      ]
    },
    {
      "cell_type": "markdown",
      "metadata": {
        "id": "NoTH3MDldZVC"
      },
      "source": [
        "##### 4. Create a NumPy array and apply trigonometric operations like sin, cos, and tan."
      ]
    },
    {
      "cell_type": "code",
      "execution_count": 9,
      "metadata": {},
      "outputs": [
        {
          "name": "stdout",
          "output_type": "stream",
          "text": [
            "Original Array:\n",
            " [[0.         0.52359878 0.78539816]\n",
            " [1.04719755 1.57079633 3.14159265]]\n",
            "Sine:\n",
            " [[0.00000000e+00 5.00000000e-01 7.07106781e-01]\n",
            " [8.66025404e-01 1.00000000e+00 1.22464680e-16]]\n",
            "Cosine:\n",
            " [[ 1.00000000e+00  8.66025404e-01  7.07106781e-01]\n",
            " [ 5.00000000e-01  6.12323400e-17 -1.00000000e+00]]\n",
            "Tangent:\n",
            " [[ 0.00000000e+00  5.77350269e-01  1.00000000e+00]\n",
            " [ 1.73205081e+00  1.63312394e+16 -1.22464680e-16]]\n"
          ]
        }
      ],
      "source": [
        "import numpy as np\n",
        "\n",
        "trig_array = np.array([[0, np.pi/6, np.pi/4], [np.pi/3, np.pi/2, np.pi]])\n",
        "print(\"Original Array:\\n\", trig_array)\n",
        "\n",
        "sin_array = np.sin(trig_array)\n",
        "print(\"Sine:\\n\", sin_array)\n",
        "\n",
        "cos_array = np.cos(trig_array)\n",
        "print(\"Cosine:\\n\", cos_array)\n",
        "\n",
        "tan_array = np.tan(trig_array)\n",
        "print(\"Tangent:\\n\", tan_array)"
      ]
    },
    {
      "cell_type": "markdown",
      "metadata": {
        "id": "pUY2m_3XdbNa"
      },
      "source": [
        "##### 5. Implement a function using NumPy that calculates the Euclidean distance between two points."
      ]
    },
    {
      "cell_type": "code",
      "execution_count": null,
      "metadata": {},
      "outputs": [],
      "source": [
        "import numpy as np\n",
        "\n",
        "def euclidean_distance(point1, point2):\n",
        "    return np.linalg.norm(np.array(point1) - np.array(point2))"
      ]
    },
    {
      "cell_type": "markdown",
      "metadata": {
        "id": "zJB76C5AdfGJ"
      },
      "source": [
        "#### **2. Combining and Splitting Arrays**"
      ]
    },
    {
      "cell_type": "markdown",
      "metadata": {
        "id": "LtS0WQjcdzrh"
      },
      "source": [
        "##### 1. Create two 1D arrays and concatenate them horizontally and vertically."
      ]
    },
    {
      "cell_type": "code",
      "execution_count": 10,
      "metadata": {},
      "outputs": [
        {
          "name": "stdout",
          "output_type": "stream",
          "text": [
            "Horizontal Concatenation: [1 2 3 4 5 6]\n",
            "Vertical Concatenation:\n",
            " [[1 2 3]\n",
            " [4 5 6]]\n"
          ]
        }
      ],
      "source": [
        "import numpy as np\n",
        "\n",
        "array_a = np.array([1, 2, 3])\n",
        "array_b = np.array([4, 5, 6])\n",
        "\n",
        "# Horizontal concatenation (1D arrays)\n",
        "horiz_concat = np.concatenate((array_a, array_b))\n",
        "print(\"Horizontal Concatenation:\", horiz_concat)\n",
        "\n",
        "# Vertical concatenation (convert to 2D column vectors first)\n",
        "vert_concat = np.vstack((array_a, array_b))\n",
        "print(\"Vertical Concatenation:\\n\", vert_concat)"
      ]
    },
    {
      "cell_type": "markdown",
      "metadata": {
        "id": "f763LOTWd1xR"
      },
      "source": [
        "##### 2. Stack multiple 2D arrays using vstack and hstack and then split them back using vsplit and hsplit."
      ]
    },
    {
      "cell_type": "code",
      "execution_count": 11,
      "metadata": {},
      "outputs": [
        {
          "name": "stdout",
          "output_type": "stream",
          "text": [
            "Vertically Stacked:\n",
            " [[ 1  2  3]\n",
            " [ 4  5  6]\n",
            " [ 7  8  9]\n",
            " [10 11 12]]\n",
            "Horizontally Stacked:\n",
            " [[ 1  2  3  7  8  9]\n",
            " [ 4  5  6 10 11 12]]\n",
            "Vertically Split:\n",
            "Part 1:\n",
            "[[1 2 3]\n",
            " [4 5 6]]\n",
            "Part 2:\n",
            "[[ 7  8  9]\n",
            " [10 11 12]]\n",
            "Horizontally Split:\n",
            "Part 1:\n",
            "[[1 2 3]\n",
            " [4 5 6]]\n",
            "Part 2:\n",
            "[[ 7  8  9]\n",
            " [10 11 12]]\n"
          ]
        }
      ],
      "source": [
        "import numpy as np\n",
        "\n",
        "# Create two 2D arrays\n",
        "arr1 = np.array([[1, 2, 3], [4, 5, 6]])\n",
        "arr2 = np.array([[7, 8, 9], [10, 11, 12]])\n",
        "\n",
        "# Stack vertically\n",
        "v_stacked = np.vstack((arr1, arr2))\n",
        "print(\"Vertically Stacked:\\n\", v_stacked)\n",
        "\n",
        "# Stack horizontally\n",
        "h_stacked = np.hstack((arr1, arr2))\n",
        "print(\"Horizontally Stacked:\\n\", h_stacked)\n",
        "\n",
        "# Split vertically (into 2 arrays)\n",
        "v_split = np.vsplit(v_stacked, 2)\n",
        "print(\"Vertically Split:\")\n",
        "for i, arr in enumerate(v_split):\n",
        "    print(f\"Part {i+1}:\\n{arr}\")\n",
        "\n",
        "# Split horizontally (into 2 arrays)\n",
        "h_split = np.hsplit(h_stacked, 2)\n",
        "print(\"Horizontally Split:\")\n",
        "for i, arr in enumerate(h_split):\n",
        "    print(f\"Part {i+1}:\\n{arr}\")"
      ]
    },
    {
      "cell_type": "markdown",
      "metadata": {
        "id": "OybRidJWd32p"
      },
      "source": [
        "##### 3. Create a 2D array and split it into 4 equal sub-arrays."
      ]
    },
    {
      "cell_type": "code",
      "execution_count": 13,
      "metadata": {},
      "outputs": [
        {
          "name": "stdout",
          "output_type": "stream",
          "text": [
            "Original Array:\n",
            " [[ 0  1  2  3]\n",
            " [ 4  5  6  7]\n",
            " [ 8  9 10 11]\n",
            " [12 13 14 15]]\n",
            "4 Equal Sub-arrays:\n",
            "Sub-array (0,0):\n",
            "[[0 1]\n",
            " [4 5]]\n",
            "Sub-array (0,1):\n",
            "[[2 3]\n",
            " [6 7]]\n",
            "Sub-array (1,0):\n",
            "[[ 8  9]\n",
            " [12 13]]\n",
            "Sub-array (1,1):\n",
            "[[10 11]\n",
            " [14 15]]\n"
          ]
        }
      ],
      "source": [
        "import numpy as np\n",
        "\n",
        "array_2d = np.arange(16).reshape(4, 4)\n",
        "print(\"Original Array:\\n\", array_2d)\n",
        "\n",
        "# First split vertically into 2 parts, then split each part horizontally\n",
        "vertical_splits = np.vsplit(array_2d, 2)\n",
        "sub_arrays = [np.hsplit(block, 2) for block in vertical_splits]\n",
        "\n",
        "print(\"4 Equal Sub-arrays:\")\n",
        "for i, row in enumerate(sub_arrays):\n",
        "    for j, sub in enumerate(row):\n",
        "        print(f\"Sub-array ({i},{j}):\\n{sub}\")"
      ]
    },
    {
      "cell_type": "markdown",
      "metadata": {
        "id": "6q0FnQqJd6Wx"
      },
      "source": [
        "##### 4. Demonstrate the difference between concatenate, stack, and hstack functions using 2D arrays."
      ]
    },
    {
      "cell_type": "code",
      "execution_count": null,
      "metadata": {},
      "outputs": [],
      "source": [
        "import numpy as np\n",
        "\n",
        "a = np.array([[1, 2], [3, 4]])\n",
        "b = np.array([[5, 6], [7, 8]])\n",
        "\n",
        "# Using concatenate (along axis 0 and 1)\n",
        "concat_axis0 = np.concatenate((a, b), axis=0)\n",
        "print(\"Concatenate along axis 0:\\n\", concat_axis0)\n",
        "\n",
        "concat_axis1 = np.concatenate((a, b), axis=1)\n",
        "print(\"Concatenate along axis 1:\\n\", concat_axis1)\n",
        "\n",
        "# Using stack (creates a new axis)\n",
        "stack_axis0 = np.stack((a, b), axis=0)\n",
        "print(\"Stack along new axis 0:\\n\", stack_axis0)\n",
        "\n",
        "stack_axis1 = np.stack((a, b), axis=1)\n",
        "print(\"Stack along new axis 1:\\n\", stack_axis1)\n",
        "\n",
        "# Using hstack (horizontal stack)\n",
        "hstacked = np.hstack((a, b))\n",
        "print(\"Horizontal Stack:\\n\", hstacked)"
      ]
    },
    {
      "cell_type": "markdown",
      "metadata": {
        "id": "E-T5X4P6d8NZ"
      },
      "source": [
        "##### 5. Create a 3D array and flatten it, then reshape it back to its original shape."
      ]
    },
    {
      "cell_type": "code",
      "execution_count": 14,
      "metadata": {},
      "outputs": [
        {
          "name": "stdout",
          "output_type": "stream",
          "text": [
            "Original 3D Array:\n",
            " [[[ 0  1  2  3]\n",
            "  [ 4  5  6  7]\n",
            "  [ 8  9 10 11]]\n",
            "\n",
            " [[12 13 14 15]\n",
            "  [16 17 18 19]\n",
            "  [20 21 22 23]]]\n",
            "Flattened Array:\n",
            " [ 0  1  2  3  4  5  6  7  8  9 10 11 12 13 14 15 16 17 18 19 20 21 22 23]\n",
            "Reshaped Back to 3D:\n",
            " [[[ 0  1  2  3]\n",
            "  [ 4  5  6  7]\n",
            "  [ 8  9 10 11]]\n",
            "\n",
            " [[12 13 14 15]\n",
            "  [16 17 18 19]\n",
            "  [20 21 22 23]]]\n"
          ]
        }
      ],
      "source": [
        "import numpy as np\n",
        "\n",
        "array_3d = np.arange(2*3*4).reshape(2, 3, 4)\n",
        "print(\"Original 3D Array:\\n\", array_3d)\n",
        "\n",
        "flattened = array_3d.flatten()\n",
        "print(\"Flattened Array:\\n\", flattened)\n",
        "\n",
        "reshaped = flattened.reshape(array_3d.shape)\n",
        "print(\"Reshaped Back to 3D:\\n\", reshaped)"
      ]
    },
    {
      "cell_type": "markdown",
      "metadata": {
        "id": "ZHM7_bvMd_yR"
      },
      "source": [
        "#### **3. Search, Sort, Aggregating/Statistical Functions**"
      ]
    },
    {
      "cell_type": "markdown",
      "metadata": {
        "id": "vUD0ThCGeOnx"
      },
      "source": [
        "##### 1. Create a NumPy array and find the index of the maximum and minimum elements."
      ]
    },
    {
      "cell_type": "code",
      "execution_count": null,
      "metadata": {
        "notebookRunGroups": {
          "groupValue": "1"
        }
      },
      "outputs": [],
      "source": [
        "import numpy as np\n",
        "\n",
        "sample_array = np.array([3, 7, 1, 9, 4, 2])\n",
        "max_index = np.argmax(sample_array)\n",
        "min_index = np.argmin(sample_array)\n",
        "print(\"Array:\", sample_array)\n",
        "print(\"Index of maximum element:\", max_index)\n",
        "print(\"Index of minimum element:\", min_index)"
      ]
    },
    {
      "cell_type": "markdown",
      "metadata": {
        "id": "ozuiwUKyeRSZ"
      },
      "source": [
        "##### 2. Sort a 2D array along different axes and display the result."
      ]
    },
    {
      "cell_type": "code",
      "execution_count": null,
      "metadata": {},
      "outputs": [],
      "source": [
        "import numpy as np\n",
        "\n",
        "# Sort along rows (axis=1)\n",
        "sorted_rows = np.sort(array1, axis=1)\n",
        "print(\"Sorted along rows (axis=1):\\n\", sorted_rows)\n",
        "\n",
        "# Sort along columns (axis=0)\n",
        "sorted_cols = np.sort(array1, axis=0)\n",
        "print(\"Sorted along columns (axis=0):\\n\", sorted_cols)"
      ]
    },
    {
      "cell_type": "markdown",
      "metadata": {
        "id": "NL-NSFxGeUtJ"
      },
      "source": [
        "##### 3. Generate a random NumPy array and find the mean, median, variance, and standard deviation."
      ]
    },
    {
      "cell_type": "code",
      "execution_count": 15,
      "metadata": {},
      "outputs": [
        {
          "name": "stdout",
          "output_type": "stream",
          "text": [
            "Random Array:\n",
            " [[69 55 15 99 26]\n",
            " [55 31 95 99 82]\n",
            " [36 28 96 78 80]\n",
            " [85  7  2 72 47]]\n",
            "Mean: 57.85\n",
            "Median: 62.0\n",
            "Variance: 977.1274999999999\n",
            "Standard Deviation: 31.259038692832508\n"
          ]
        }
      ],
      "source": [
        "import numpy as np\n",
        "\n",
        "rand_arr = np.random.randint(1, 100, size=(4, 5))\n",
        "print(\"Random Array:\\n\", rand_arr)\n",
        "\n",
        "mean_val = np.mean(rand_arr)\n",
        "median_val = np.median(rand_arr)\n",
        "variance_val = np.var(rand_arr)\n",
        "std_dev_val = np.std(rand_arr)\n",
        "\n",
        "print(\"Mean:\", mean_val)\n",
        "print(\"Median:\", median_val)\n",
        "print(\"Variance:\", variance_val)\n",
        "print(\"Standard Deviation:\", std_dev_val)"
      ]
    },
    {
      "cell_type": "markdown",
      "metadata": {
        "id": "ugEqM7k2eXBJ"
      },
      "source": [
        "##### 4. Use np.where to find all elements greater than a certain threshold in a given array."
      ]
    },
    {
      "cell_type": "code",
      "execution_count": 16,
      "metadata": {},
      "outputs": [
        {
          "name": "stdout",
          "output_type": "stream",
          "text": [
            "Indices of elements greater than 5 : (array([1, 2, 2, 2]), array([2, 0, 1, 2]))\n",
            "Elements greater than 5 : [6 7 8 9]\n"
          ]
        }
      ],
      "source": [
        "import numpy as np\n",
        "\n",
        "threshold = 5\n",
        "indices = np.where(array1 > threshold)\n",
        "print(\"Indices of elements greater than\", threshold, \":\", indices)\n",
        "print(\"Elements greater than\", threshold, \":\", array1[indices])"
      ]
    },
    {
      "cell_type": "markdown",
      "metadata": {
        "id": "8Li_l6hXeYtr"
      },
      "source": [
        "##### 5. Create a NumPy array and count how many elements are positive, negative, or zero."
      ]
    },
    {
      "cell_type": "code",
      "execution_count": 17,
      "metadata": {},
      "outputs": [
        {
          "name": "stdout",
          "output_type": "stream",
          "text": [
            "Number of positive elements: 4\n",
            "Number of negative elements: 3\n",
            "Number of zero elements: 2\n"
          ]
        }
      ],
      "source": [
        "import numpy as np\n",
        "\n",
        "sample_arr = np.array([3, -1, 0, 7, -5, 0, 2, -8, 4])\n",
        "\n",
        "num_positive = np.sum(sample_arr > 0)\n",
        "num_negative = np.sum(sample_arr < 0)\n",
        "num_zero = np.sum(sample_arr == 0)\n",
        "\n",
        "print(\"Number of positive elements:\", num_positive)\n",
        "print(\"Number of negative elements:\", num_negative)\n",
        "print(\"Number of zero elements:\", num_zero)"
      ]
    }
  ],
  "metadata": {
    "colab": {
      "provenance": []
    },
    "kernelspec": {
      "display_name": "Python 3",
      "name": "python3"
    },
    "language_info": {
      "codemirror_mode": {
        "name": "ipython",
        "version": 3
      },
      "file_extension": ".py",
      "mimetype": "text/x-python",
      "name": "python",
      "nbconvert_exporter": "python",
      "pygments_lexer": "ipython3",
      "version": "3.13.5"
    }
  },
  "nbformat": 4,
  "nbformat_minor": 0
}
