{
  "cells": [
    {
      "cell_type": "markdown",
      "metadata": {
        "id": "nksqNEVUUkIG"
      },
      "source": [
        "#### **1. Introduction to NumPy**"
      ]
    },
    {
      "cell_type": "markdown",
      "metadata": {
        "id": "R2Hg3uxcUoV0"
      },
      "source": [
        "**Task 1**: Import the NumPy library and print its version."
      ]
    },
    {
      "cell_type": "code",
      "execution_count": 1,
      "metadata": {
        "id": "jBDP51A_VOqt"
      },
      "outputs": [
        {
          "name": "stdout",
          "output_type": "stream",
          "text": [
            "NumPy version: 2.3.1\n"
          ]
        }
      ],
      "source": [
        "# Write your answer from this cell onwards\n",
        "import numpy as np\n",
        "\n",
        "print(f\"NumPy version: {np.__version__}\")"
      ]
    },
    {
      "cell_type": "markdown",
      "metadata": {
        "id": "8GJdriQkUvAd"
      },
      "source": [
        "**Task 2**: Create a one-dimensional NumPy array of integers from 0 to 9 and print it."
      ]
    },
    {
      "cell_type": "code",
      "execution_count": 2,
      "metadata": {
        "id": "yrjhHTwLVZD1"
      },
      "outputs": [
        {
          "name": "stdout",
          "output_type": "stream",
          "text": [
            "array_1d: [0 1 2 3 4 5 6 7 8 9]\n"
          ]
        }
      ],
      "source": [
        "# Write your answer from this cell onwards\n",
        "import numpy as np\n",
        "\n",
        "array_1d = np.arange(10)\n",
        "\n",
        "# Print the array\n",
        "print(f\"array_1d: {array_1d}\")"
      ]
    },
    {
      "cell_type": "markdown",
      "metadata": {
        "id": "M5QqzADUUw9d"
      },
      "source": [
        "**Task 3**: Generate a two-dimensional NumPy array with random values and print its shape and data type."
      ]
    },
    {
      "cell_type": "code",
      "execution_count": 3,
      "metadata": {
        "id": "panMWynYVZd9"
      },
      "outputs": [
        {
          "name": "stdout",
          "output_type": "stream",
          "text": [
            "Array:\n",
            "[[0.71574279 0.57784674 0.83627285]\n",
            " [0.36010258 0.12539809 0.43412402]\n",
            " [0.12003381 0.5888589  0.61494211]]\n",
            "\n",
            "Shape: (3, 3)\n",
            "Data type: float64\n"
          ]
        }
      ],
      "source": [
        "# Write your answer from this cell onwards\n",
        "import numpy as np\n",
        "\n",
        "# Create a two-dimensional NumPy array with random values\n",
        "array_2d = np.random.rand(3, 3)\n",
        "\n",
        "# Print the array\n",
        "print(\"Array:\")\n",
        "print(array_2d)\n",
        "\n",
        "# Print the shape of the array\n",
        "print(\"\\nShape:\", array_2d.shape)\n",
        "\n",
        "# Print the data type of the array\n",
        "print(\"Data type:\", array_2d.dtype)"
      ]
    },
    {
      "cell_type": "markdown",
      "metadata": {
        "id": "EwBurIWiUy3s"
      },
      "source": [
        "**Task 4**: Create a NumPy array with 50 evenly spaced values between 0 and 10."
      ]
    },
    {
      "cell_type": "code",
      "execution_count": 4,
      "metadata": {
        "id": "vh7EZr1NVZyW"
      },
      "outputs": [
        {
          "name": "stdout",
          "output_type": "stream",
          "text": [
            "[ 0.          0.20408163  0.40816327  0.6122449   0.81632653  1.02040816\n",
            "  1.2244898   1.42857143  1.63265306  1.83673469  2.04081633  2.24489796\n",
            "  2.44897959  2.65306122  2.85714286  3.06122449  3.26530612  3.46938776\n",
            "  3.67346939  3.87755102  4.08163265  4.28571429  4.48979592  4.69387755\n",
            "  4.89795918  5.10204082  5.30612245  5.51020408  5.71428571  5.91836735\n",
            "  6.12244898  6.32653061  6.53061224  6.73469388  6.93877551  7.14285714\n",
            "  7.34693878  7.55102041  7.75510204  7.95918367  8.16326531  8.36734694\n",
            "  8.57142857  8.7755102   8.97959184  9.18367347  9.3877551   9.59183673\n",
            "  9.79591837 10.        ]\n"
          ]
        }
      ],
      "source": [
        "# Write your answer from this cell onwards\n",
        "\n",
        "import numpy as np\n",
        "\n",
        "# Create a NumPy array with 50 evenly spaced values between 0 and 10\n",
        "evenly_spaced_array = np.linspace(0, 10, 50)\n",
        "\n",
        "# Print the array\n",
        "print(evenly_spaced_array)"
      ]
    },
    {
      "cell_type": "markdown",
      "metadata": {
        "id": "rHzVOnP3U0OU"
      },
      "source": [
        "**Task 5**: Write a program to demonstrate the difference between a Python list and a NumPy array by performing element-wise addition on both."
      ]
    },
    {
      "cell_type": "code",
      "execution_count": 5,
      "metadata": {
        "id": "3Aol7c-HVaM1"
      },
      "outputs": [
        {
          "name": "stdout",
          "output_type": "stream",
          "text": [
            "Python List 1: [1, 2, 3, 4, 5]\n",
            "Python List 2: [6, 7, 8, 9, 10]\n",
            "NumPy Array 1: [1 2 3 4 5]\n",
            "NumPy Array 2: [ 6  7  8  9 10]\n",
            "\n",
            "Element-wise addition on NumPy arrays: [ 7  9 11 13 15]\n"
          ]
        }
      ],
      "source": [
        "# Write your answer from this cell onwards\n",
        "\n",
        "import numpy as np\n",
        "\n",
        "# Create a Python list\n",
        "python_list1 = [1, 2, 3, 4, 5]\n",
        "python_list2 = [6, 7, 8, 9, 10]\n",
        "\n",
        "# Perform element-wise addition on Python lists (this will concatenate, not add elements)\n",
        "# print(\"Element-wise addition on Python lists:\", python_list1 + python_list2) # This will cause an error\n",
        "\n",
        "# Create NumPy arrays\n",
        "numpy_array1 = np.array(python_list1)\n",
        "numpy_array2 = np.array(python_list2)\n",
        "\n",
        "# Perform element-wise addition on NumPy arrays\n",
        "numpy_addition_result = numpy_array1 + numpy_array2\n",
        "\n",
        "print(\"Python List 1:\", python_list1)\n",
        "print(\"Python List 2:\", python_list2)\n",
        "print(\"NumPy Array 1:\", numpy_array1)\n",
        "print(\"NumPy Array 2:\", numpy_array2)\n",
        "print(\"\\nElement-wise addition on NumPy arrays:\", numpy_addition_result)"
      ]
    },
    {
      "cell_type": "markdown",
      "metadata": {
        "id": "Zc-I33nTVnfF"
      },
      "source": [
        "---"
      ]
    },
    {
      "cell_type": "markdown",
      "metadata": {
        "id": "BNBcEQGpU5A1"
      },
      "source": [
        "#### **2. Creation of NumPy Arrays**"
      ]
    },
    {
      "cell_type": "markdown",
      "metadata": {
        "id": "8gwQ1XLTU6d0"
      },
      "source": [
        "**Task 6**: Create a NumPy array of all zeros with a shape of (3, 4)."
      ]
    },
    {
      "cell_type": "code",
      "execution_count": 6,
      "metadata": {
        "id": "PX_xYoZ7VaqK"
      },
      "outputs": [
        {
          "name": "stdout",
          "output_type": "stream",
          "text": [
            "[[0. 0. 0. 0.]\n",
            " [0. 0. 0. 0.]\n",
            " [0. 0. 0. 0.]]\n"
          ]
        }
      ],
      "source": [
        "# Write your answer from this cell onwards\n",
        "\n",
        "import numpy as np\n",
        "\n",
        "# Create a NumPy array of all zeros with a shape of (3, 4)\n",
        "zeros_array = np.zeros((3, 4))\n",
        "\n",
        "# Print the array\n",
        "print(zeros_array)"
      ]
    },
    {
      "cell_type": "markdown",
      "metadata": {
        "id": "j3c91l5wU8ic"
      },
      "source": [
        "**Task 7**: Create a NumPy array of all ones with a shape of (2, 5) and a data type of float."
      ]
    },
    {
      "cell_type": "code",
      "execution_count": 7,
      "metadata": {
        "id": "r74xiEJiVa_h"
      },
      "outputs": [
        {
          "name": "stdout",
          "output_type": "stream",
          "text": [
            "[[1. 1. 1. 1. 1.]\n",
            " [1. 1. 1. 1. 1.]]\n"
          ]
        }
      ],
      "source": [
        "# Write your answer from this cell onwards\n",
        "\n",
        "import numpy as np\n",
        "\n",
        "# Create a NumPy array of all ones with a shape of (2, 5) and a data type of float\n",
        "ones_array = np.ones((2, 5), dtype=float)\n",
        "\n",
        "# Print the array\n",
        "print(ones_array)"
      ]
    },
    {
      "cell_type": "markdown",
      "metadata": {
        "id": "Vda3CtySU9g8"
      },
      "source": [
        "**Task 8**: Use `arange()` to create a NumPy array containing numbers from 10 to 50 with a step of 5."
      ]
    },
    {
      "cell_type": "code",
      "execution_count": 8,
      "metadata": {
        "id": "xJP0cmb3VbOG"
      },
      "outputs": [
        {
          "name": "stdout",
          "output_type": "stream",
          "text": [
            "[10 15 20 25 30 35 40 45 50]\n"
          ]
        }
      ],
      "source": [
        "# Write your answer from this cell onwards\n",
        "\n",
        "import numpy as np\n",
        "\n",
        "# Use arange() to create a NumPy array containing numbers from 10 to 50 with a step of 5\n",
        "arange_array = np.arange(10, 51, 5)\n",
        "\n",
        "# Print the array\n",
        "print(arange_array)"
      ]
    },
    {
      "cell_type": "markdown",
      "metadata": {
        "id": "U_S34YgxU-_O"
      },
      "source": [
        "**Task 9**: Generate a 3x3 identity matrix using NumPy."
      ]
    },
    {
      "cell_type": "code",
      "execution_count": 9,
      "metadata": {
        "id": "1o6mpHEpVbk9"
      },
      "outputs": [
        {
          "name": "stdout",
          "output_type": "stream",
          "text": [
            "[[1. 0. 0.]\n",
            " [0. 1. 0.]\n",
            " [0. 0. 1.]]\n"
          ]
        }
      ],
      "source": [
        "# Write your answer from this cell onwards\n",
        "\n",
        "import numpy as np\n",
        "\n",
        "# Generate a 3x3 identity matrix\n",
        "identity_matrix = np.eye(3)\n",
        "\n",
        "# Print the matrix\n",
        "print(identity_matrix)"
      ]
    },
    {
      "cell_type": "markdown",
      "metadata": {
        "id": "ZXumR58bVAGd"
      },
      "source": [
        "**Task 10**: Create a 4x4 array filled with random integers between 1 and 20."
      ]
    },
    {
      "cell_type": "code",
      "execution_count": 10,
      "metadata": {
        "id": "h3sNqZkyVb5d"
      },
      "outputs": [
        {
          "name": "stdout",
          "output_type": "stream",
          "text": [
            "[[20  6  5  1]\n",
            " [ 1 13 13 18]\n",
            " [14 19 18  3]\n",
            " [ 2 17 16  2]]\n"
          ]
        }
      ],
      "source": [
        "# Write your answer from this cell onwards\n",
        "\n",
        "import numpy as np\n",
        "\n",
        "# Create a 4x4 array filled with random integers between 1 and 20\n",
        "random_integer_array = np.random.randint(1, 21, size=(4, 4))\n",
        "\n",
        "# Print the array\n",
        "print(random_integer_array)"
      ]
    },
    {
      "cell_type": "markdown",
      "metadata": {
        "id": "cjdCYJ5tVrF8"
      },
      "source": [
        "---"
      ]
    },
    {
      "cell_type": "markdown",
      "metadata": {
        "id": "xqShZoxpVBkV"
      },
      "source": [
        "#### **3. Indexing and Slicing of NumPy Arrays**"
      ]
    },
    {
      "cell_type": "markdown",
      "metadata": {
        "id": "h9qMzkDAVDj1"
      },
      "source": [
        "**Task 11**: Create a 1D NumPy array with values ranging from 1 to 15. Slice the array to extract elements from index 3 to 8."
      ]
    },
    {
      "cell_type": "code",
      "execution_count": 11,
      "metadata": {
        "id": "YM5HyktfVcTO"
      },
      "outputs": [
        {
          "name": "stdout",
          "output_type": "stream",
          "text": [
            "Original array: [ 1  2  3  4  5  6  7  8  9 10 11 12 13 14 15]\n",
            "Sliced array (elements from index 3 to 8): [4 5 6 7 8 9]\n"
          ]
        }
      ],
      "source": [
        "# Write your answer from this cell onwards\n",
        "\n",
        "import numpy as np\n",
        "\n",
        "# Create a 1D NumPy array with values ranging from 1 to 15\n",
        "array_1d = np.arange(1, 16)\n",
        "\n",
        "# Slice the array to extract elements from index 3 to 8\n",
        "sliced_array = array_1d[3:9]\n",
        "\n",
        "# Print the original array and the sliced array\n",
        "print(\"Original array:\", array_1d)\n",
        "print(\"Sliced array (elements from index 3 to 8):\", sliced_array)"
      ]
    },
    {
      "cell_type": "markdown",
      "metadata": {
        "id": "Rq8a05TxVGC6"
      },
      "source": [
        "**Task 12**: Generate a 3x3 matrix with values ranging from 1 to 9. Retrieve the element at the second row and third column."
      ]
    },
    {
      "cell_type": "code",
      "execution_count": 12,
      "metadata": {
        "id": "oF-RO3FvVcsN"
      },
      "outputs": [
        {
          "name": "stdout",
          "output_type": "stream",
          "text": [
            "Matrix:\n",
            "[[1 2 3]\n",
            " [4 5 6]\n",
            " [7 8 9]]\n",
            "\n",
            "Element at second row and third column: 6\n"
          ]
        }
      ],
      "source": [
        "# Write your answer from this cell onwards\n",
        "\n",
        "import numpy as np\n",
        "\n",
        "# Generate a 3x3 matrix with values ranging from 1 to 9\n",
        "matrix_3x3 = np.arange(1, 10).reshape(3, 3)\n",
        "\n",
        "# Retrieve the element at the second row and third column (remembering 0-based indexing)\n",
        "element = matrix_3x3[1, 2]\n",
        "\n",
        "# Print the matrix and the retrieved element\n",
        "print(\"Matrix:\")\n",
        "print(matrix_3x3)\n",
        "print(\"\\nElement at second row and third column:\", element)"
      ]
    },
    {
      "cell_type": "markdown",
      "metadata": {
        "id": "Dbt2qGohVHK4"
      },
      "source": [
        "**Task 13**: Slice a 4x4 array to extract the last two rows and the last two columns."
      ]
    },
    {
      "cell_type": "code",
      "execution_count": 13,
      "metadata": {
        "id": "ILAjBQtbVc9V"
      },
      "outputs": [
        {
          "name": "stdout",
          "output_type": "stream",
          "text": [
            "Original 4x4 array:\n",
            "[[ 1  2  3  4]\n",
            " [ 5  6  7  8]\n",
            " [ 9 10 11 12]\n",
            " [13 14 15 16]]\n",
            "\n",
            "Sliced array (last two rows and last two columns):\n",
            "[[11 12]\n",
            " [15 16]]\n"
          ]
        }
      ],
      "source": [
        "# Write your answer from this cell onwards\n",
        "\n",
        "import numpy as np\n",
        "\n",
        "# Create a sample 4x4 array\n",
        "array_4x4 = np.arange(1, 17).reshape(4, 4)\n",
        "\n",
        "# Slice the array to extract the last two rows and last two columns\n",
        "sliced_array = array_4x4[2:4, 2:4]\n",
        "\n",
        "# Print the original array and the sliced array\n",
        "print(\"Original 4x4 array:\")\n",
        "print(array_4x4)\n",
        "print(\"\\nSliced array (last two rows and last two columns):\")\n",
        "print(sliced_array)"
      ]
    },
    {
      "cell_type": "markdown",
      "metadata": {
        "id": "1qGmKMc_VIMf"
      },
      "source": [
        "**Task 14**: Create a 5x5 matrix of random integers between 10 and 50. Replace all elements in the first row with the value 100."
      ]
    },
    {
      "cell_type": "code",
      "execution_count": 14,
      "metadata": {
        "id": "tyAOaZIYVeP1"
      },
      "outputs": [
        {
          "name": "stdout",
          "output_type": "stream",
          "text": [
            "Original matrix:\n",
            "[[13 12 29 21 39]\n",
            " [13 20 47 10 22]\n",
            " [32 33 15 27 30]\n",
            " [41 37 26 48 33]\n",
            " [43 31 18 28 18]]\n",
            "\n",
            "Matrix after replacing the first row with 100:\n",
            "[[100 100 100 100 100]\n",
            " [ 13  20  47  10  22]\n",
            " [ 32  33  15  27  30]\n",
            " [ 41  37  26  48  33]\n",
            " [ 43  31  18  28  18]]\n"
          ]
        }
      ],
      "source": [
        "# Write your answer from this cell onwards\n",
        "\n",
        "import numpy as np\n",
        "\n",
        "# Create a 5x5 matrix of random integers between 10 and 50\n",
        "random_matrix = np.random.randint(10, 51, size=(5, 5))\n",
        "\n",
        "# Print the original matrix\n",
        "print(\"Original matrix:\")\n",
        "print(random_matrix)\n",
        "\n",
        "# Replace all elements in the first row with the value 100\n",
        "random_matrix[0, :] = 100\n",
        "\n",
        "# Print the modified matrix\n",
        "print(\"\\nMatrix after replacing the first row with 100:\")\n",
        "print(random_matrix)"
      ]
    },
    {
      "cell_type": "markdown",
      "metadata": {
        "id": "y-zKtnzqVJWy"
      },
      "source": [
        "**Task 15**: Create a 1D NumPy array of 10 elements. Use boolean indexing to filter out all values greater than 5."
      ]
    },
    {
      "cell_type": "code",
      "execution_count": 15,
      "metadata": {
        "id": "nBn5cs_jVemV"
      },
      "outputs": [
        {
          "name": "stdout",
          "output_type": "stream",
          "text": [
            "Original array: [ 1  2  3  4  5  6  7  8  9 10]\n",
            "Filtered array (values less than or equal to 5): [1 2 3 4 5]\n"
          ]
        }
      ],
      "source": [
        "# Write your answer from this cell onwards\n",
        "\n",
        "import numpy as np\n",
        "\n",
        "# Create a 1D NumPy array of 10 elements\n",
        "array_1d = np.arange(1, 11)\n",
        "\n",
        "# Use boolean indexing to filter out all values greater than 5\n",
        "filtered_array = array_1d[array_1d <= 5]\n",
        "\n",
        "# Print the original and filtered arrays\n",
        "print(\"Original array:\", array_1d)\n",
        "print(\"Filtered array (values less than or equal to 5):\", filtered_array)"
      ]
    }
  ],
  "metadata": {
    "colab": {
      "provenance": []
    },
    "kernelspec": {
      "display_name": "Python 3",
      "name": "python3"
    },
    "language_info": {
      "codemirror_mode": {
        "name": "ipython",
        "version": 3
      },
      "file_extension": ".py",
      "mimetype": "text/x-python",
      "name": "python",
      "nbconvert_exporter": "python",
      "pygments_lexer": "ipython3",
      "version": "3.13.5"
    }
  },
  "nbformat": 4,
  "nbformat_minor": 0
}
